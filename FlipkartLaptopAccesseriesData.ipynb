{
 "cells": [
  {
   "cell_type": "markdown",
   "metadata": {},
   "source": [
    "# Laptop Product Data - Flipkart"
   ]
  },
  {
   "cell_type": "code",
   "execution_count": 1,
   "metadata": {},
   "outputs": [],
   "source": [
    "import time\n",
    "import pandas as pd    \n",
    "# ------------- # \n",
    "import selenium\n",
    "from selenium import webdriver\n",
    "from selenium.webdriver.common.by import By\n",
    "from selenium.webdriver.common.keys import Keys\n",
    "import json\n",
    "from bs4 import BeautifulSoup\n",
    "import re"
   ]
  },
  {
   "cell_type": "code",
   "execution_count": 2,
   "metadata": {},
   "outputs": [
    {
     "name": "stdout",
     "output_type": "stream",
     "text": [
      "0\n"
     ]
    },
    {
     "data": {
      "text/html": [
       "<div>\n",
       "<style scoped>\n",
       "    .dataframe tbody tr th:only-of-type {\n",
       "        vertical-align: middle;\n",
       "    }\n",
       "\n",
       "    .dataframe tbody tr th {\n",
       "        vertical-align: top;\n",
       "    }\n",
       "\n",
       "    .dataframe thead th {\n",
       "        text-align: right;\n",
       "    }\n",
       "</style>\n",
       "<table border=\"1\" class=\"dataframe\">\n",
       "  <thead>\n",
       "    <tr style=\"text-align: right;\">\n",
       "      <th></th>\n",
       "    </tr>\n",
       "  </thead>\n",
       "  <tbody>\n",
       "  </tbody>\n",
       "</table>\n",
       "</div>"
      ],
      "text/plain": [
       "Empty DataFrame\n",
       "Columns: []\n",
       "Index: []"
      ]
     },
     "execution_count": 2,
     "metadata": {},
     "output_type": "execute_result"
    }
   ],
   "source": [
    "driver = webdriver.Chrome()  \n",
    "\n",
    "# Maximize Window\n",
    "driver.maximize_window() \n",
    "driver.minimize_window()  \n",
    "driver.maximize_window()  \n",
    "driver.switch_to.window(driver.current_window_handle)\n",
    "driver.implicitly_wait(10)\n",
    "\n",
    "AllProductLinks = []\n",
    "\n",
    "driver.get('https://www.flipkart.com/search?q=laptop&sid=6bo%2Cb5g&as=on&as-show=on&otracker=AS_QueryStore_HistoryAutoSuggest_4_0_na_na_na&otracker1=AS_QueryStore_HistoryAutoSuggest_4_0_na_na_na&as-pos=4&as-type=HISTORY&suggestionId=laptop%7CLaptops&requestId=652c9576-0092-4a93-b032-bf90ba1121d1')\n",
    "\n",
    "#========================getting products links to navigate further product pages===================================#\n",
    "for i in range(3):\n",
    "    \n",
    "    products_tag = driver.find_elements(By.CLASS_NAME, '_1fQZEK')\n",
    "\n",
    "    product_links = [i.get_attribute('href') for i in products_tag]\n",
    "    \n",
    "    AllProductLinks.extend(product_links)\n",
    "    \n",
    "    driver.find_element(By.XPATH,\"//span[contains(text(),'Next')]\").click()\n",
    "    \n",
    "    time.sleep(3)\n",
    "\n",
    "print(len(AllProductLinks))\n",
    "pd.DataFrame(AllProductLinks).to_csv(r'D:\\VS_Code\\FlipkartElect\\AllProductLinks.csv',encoding = 'utf-8-sig',index = False)\n"
   ]
  },
  {
   "cell_type": "code",
   "execution_count": 4,
   "metadata": {},
   "outputs": [],
   "source": [
    "#================================details to be extracted from each product page=============================#\n",
    "details = {'Name':[],'Rating':[],'CountReviewsratings':[],'DiscountPrice':[],\n",
    "           'OriginalPrice':[],'DiscountPercent':[],'BankOfffers':[],'DeliveryDetails':[],'Specification':[], 'Links':[]}"
   ]
  },
  {
   "cell_type": "code",
   "execution_count": null,
   "metadata": {},
   "outputs": [],
   "source": [
    "#===========================read product details from the files to navigate========================#\n",
    "AllLinks = pd.read_csv(r\"D:\\VS_Code\\FlipkartElect\\AllProductLinks.csv\")\n",
    "AllProductLinks = AllLinks['0'].to_list()\n",
    "detailsframe = pd.read_csv(r'D:\\VS_Code\\FlipkartElect\\LaptopDataHarvestMaestro.csv',encoding = 'utf-8-sig')\n",
    "\n",
    "details = detailsframe.to_dict('list')\n",
    "\n",
    "wait_time = 0"
   ]
  },
  {
   "cell_type": "code",
   "execution_count": null,
   "metadata": {},
   "outputs": [],
   "source": [
    "#==========================open the product links one by one and extarct the details============================#\n",
    "\n",
    "for link in AllProductLinks:\n",
    "    print(link)\n",
    "    if link not in details['Links']:\n",
    "        \n",
    "        print(link)\n",
    "        op = webdriver.ChromeOptions() #giving headless options to not show the browser\n",
    "        op.add_argument('headless')\n",
    "        driver = webdriver.Chrome(options=op)\n",
    "        #driver = webdriver.Chrome()\n",
    "        driver.get(link)\n",
    "        # Maximize Window\n",
    "        driver.maximize_window() \n",
    "        # driver.implicitly_wait(10)\n",
    "        \n",
    "        try:driver.find_element(By.CLASS_NAME,'IMZJg1').click()\n",
    "        except:pass\n",
    "        \n",
    "        try:driver.find_element(By.XPATH,\"//button[contains(text(),'Read More')]\").click()\n",
    "        except:pass\n",
    "        \n",
    "        soup = BeautifulSoup(driver.page_source,'html.parser')\n",
    "        \n",
    "        #ProductValues = driver.find_element(By.CLASS_NAME,'aMaAEs')\n",
    "\n",
    "        ProductValues = soup.find('div','aMaAEs')\n",
    "\n",
    "        try:Name=ProductValues.find('span','B_NuCI').text\n",
    "        except:Name='-'\n",
    "\n",
    "        try:Rating = ProductValues.find('div','_3LWZlK').text\n",
    "        except:Rating = '-'\n",
    "\n",
    "        try:CountReviewsratings=ProductValues.find('span','_2_R_DZ').text\n",
    "        except:CountReviewsratings='-'\n",
    "\n",
    "        try:DiscountPrice=ProductValues.find('div','_30jeq3').text\n",
    "        except:DiscountPrice='-'\n",
    "\n",
    "        try:OriginalPrice=ProductValues.find('div','_3I9_wc').text\n",
    "        except:OriginalPrice='-'\n",
    "        \n",
    "        try:DiscountPercent=ProductValues.find('div','_3Ay6Sb').text\n",
    "        except:DiscountPercent='-'\n",
    "        \n",
    "        try:BankOfffers=[i.text for i in soup.find_all('span','_3j4Zjq')]\n",
    "        except:BankOfffers='-'\n",
    "        \n",
    "        try:DeliveryDetails=soup.find('div','_3XINqE').text\n",
    "        except:DeliveryDetails='-'\n",
    "        \n",
    "        #=================================specifications collection==========================================#\n",
    "        try:\n",
    "            SpecTitles = [ SpecTitle.text for SpecTitle in soup.find_all('div','flxcaE') ]\n",
    "\n",
    "            SpecsFull = {}\n",
    "\n",
    "            for df,spectitle in zip(pd.read_html(link),SpecTitles):\n",
    "                \n",
    "                SpecKeys= df[0].to_list()\n",
    "                SpecValues = df[1].to_list()\n",
    "                \n",
    "                SpecsDict = {}\n",
    "                \n",
    "                for i,j in zip(SpecKeys,SpecValues):\n",
    "                    SpecsDict.update({i:j})\n",
    "                \n",
    "                SpecsFull.update({spectitle:SpecsDict})\n",
    "                \n",
    "            details['Specification'].append(SpecsFull)\n",
    "                \n",
    "        except:\n",
    "            \n",
    "            details['Specification'].append('-')\n",
    "        \n",
    "        details['Name'].append(Name)\n",
    "        details['Rating'].append(Rating)\n",
    "        details['CountReviewsratings'].append(CountReviewsratings)\n",
    "        details['DiscountPrice'].append(DiscountPrice)\n",
    "        details['OriginalPrice'].append(OriginalPrice)\n",
    "        details['DiscountPercent'].append(DiscountPercent)\n",
    "        details['BankOfffers'].append(BankOfffers)\n",
    "        details['DeliveryDetails'].append(DeliveryDetails)\n",
    "        details['Links'].append(link)\n",
    "        \n",
    "        driver.close()\n",
    "        \n",
    "        print(Name,Rating,CountReviewsratings,DiscountPrice,OriginalPrice,DiscountPercent,BankOfffers,DeliveryDetails)\n",
    "        wait_time = wait_time + 1\n",
    "        \n",
    "        if wait_time%100==0:\n",
    "\n",
    "            time.sleep(3)\n",
    "            break \n",
    "        \n",
    "    print(details)"
   ]
  },
  {
   "cell_type": "code",
   "execution_count": null,
   "metadata": {},
   "outputs": [],
   "source": [
    "#=================================Convert into dataframe and save it to csv file=============================#\n",
    "#details['Links'] = AllProductLinks[:118]\n",
    "pd.DataFrame(details).to_csv('D:\\VS_Code\\FlipkartElect\\LaptopDataHarvestMaestro.csv',encoding = 'utf-8-sig',index = False)"
   ]
  },
  {
   "cell_type": "code",
   "execution_count": null,
   "metadata": {},
   "outputs": [],
   "source": [
    "print(soup.prettify())"
   ]
  }
 ],
 "metadata": {
  "kernelspec": {
   "display_name": ".venv",
   "language": "python",
   "name": "python3"
  },
  "language_info": {
   "codemirror_mode": {
    "name": "ipython",
    "version": 3
   },
   "file_extension": ".py",
   "mimetype": "text/x-python",
   "name": "python",
   "nbconvert_exporter": "python",
   "pygments_lexer": "ipython3",
   "version": "3.10.0"
  }
 },
 "nbformat": 4,
 "nbformat_minor": 2
}
